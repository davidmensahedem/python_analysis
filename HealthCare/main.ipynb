{
 "cells": [
  {
   "cell_type": "code",
   "execution_count": null,
   "metadata": {},
   "outputs": [],
   "source": [
    "import pandas as pd\n",
    "import numpy as np\n",
    "import matplotlib.pyplot as plt\n",
    "import seaborn as sns\n",
    "from tabulate import tabulate"
   ]
  },
  {
   "cell_type": "code",
   "execution_count": null,
   "metadata": {},
   "outputs": [],
   "source": [
    "# Load the dataset\n",
    "df = pd.read_csv('/Users/hughes/Downloads/health_data.csv')\n",
    "\n",
    "# Convert the date column to datetime format\n",
    "df['date'] = pd.to_datetime(df['date'], errors='coerce') \n",
    "\n",
    "# Print the first few rows\n",
    "print(df.head())"
   ]
  },
  {
   "cell_type": "code",
   "execution_count": null,
   "metadata": {},
   "outputs": [],
   "source": [
    "# Check for missing values\n",
    "print(df.isnull().sum())\n",
    "\n",
    "# Convert Data types if necessary\n",
    "df['age'] = df['age'].astype(int)\n",
    "df['blood_pressure'] = df['blood_pressure'].astype(float)\n",
    "df['heart_rate'] = df['heart_rate'].astype(int)\n",
    "\n",
    "print(df.columns.tolist())\n"
   ]
  },
  {
   "cell_type": "code",
   "execution_count": null,
   "metadata": {},
   "outputs": [],
   "source": [
    "# Statistical Summary\n",
    "\n",
    "# Calculate average vutals\n",
    "average_vitals = df[['age', 'blood_pressure', 'heart_rate']].mean()\n",
    "print('Average Vitals:\\n', average_vitals)\n",
    "\n",
    "# Statistical Summary\n",
    "statistical_summary = df[['age', 'blood_pressure', 'heart_rate']].describe()\n",
    "print('Statistical Summary:\\n', statistical_summary)"
   ]
  },
  {
   "cell_type": "code",
   "execution_count": null,
   "metadata": {},
   "outputs": [],
   "source": [
    "# Identify Abnormal Readings\n",
    "# Define normal ranges for normal blood pressure and heart rate\n",
    "normal_blood_pressure = (90, 120)\n",
    "normal_heart_rate = (60, 100)\n",
    "\n",
    "# Abnormal Readings\n",
    "df['abnormal_blood_pressure'] = (df['blood_pressure'] < normal_blood_pressure[0]) | (df['blood_pressure'] > normal_blood_pressure[1])\n",
    "df['abnormal_heart_rate'] = (df['heart_rate'] < normal_heart_rate[0]) | (df['heart_rate'] > normal_heart_rate[1])\n",
    "\n",
    "# Filters out abnormal readings\n",
    "abnormal_readings = df[(df['abnormal_blood_pressure']) | (df['abnormal_heart_rate'])]\n",
    "\n",
    "\n",
    "\n",
    "print(\"Abnormal Readings:\\n\", abnormal_readings)"
   ]
  },
  {
   "cell_type": "code",
   "execution_count": null,
   "metadata": {},
   "outputs": [],
   "source": [
    "# Visualize Trends Over Time\n",
    "df['date'] = pd.to_datetime(df['date'])\n",
    "df.set_index('date', inplace=True)\n",
    "\n",
    "# print(df.columns.tolist())\n",
    "\n",
    "print(df.dtypes)\n",
    "\n",
    "plt.figure(figsize=(12, 6))\n",
    "plt.plot(df['blood_pressure'], label='Blood Pressure')\n",
    "plt.plot(df['heart_rate'], label='Heart Rate')\n",
    "plt.title('Trends in Patient Vitals Over Time')\n",
    "plt.xlabel('Date')\n",
    "plt.ylabel('Vitals')\n",
    "plt.legend()\n",
    "plt.show()"
   ]
  },
  {
   "cell_type": "code",
   "execution_count": 39,
   "metadata": {},
   "outputs": [
    {
     "name": "stdout",
     "output_type": "stream",
     "text": [
      "\n",
      "HEALTH DATA ANALYSIS REPORT: ABNORMAL READINGS AND TRENDS\n",
      "------------------------------------------------------------\n",
      "\n",
      "ABNORMAL READINGS SUMMARY\n",
      "------------------------\n",
      "1. Blood Pressure Concerns:\n",
      "   • High BP (Greater Than 120): 109 cases\n",
      "   • Low BP (Less Than 90): 19 cases\n",
      "   • Percentage of abnormal readings: 64.0%\n",
      "\n",
      "2. Heart Rate Concerns:\n",
      "   • High HR (Greater Than 100): 34 cases\n",
      "   • Low HR (Less Than 60): 20 cases\n",
      "   • Percentage of abnormal readings: 27.0%\n",
      "\n",
      "TRENDS AND PATTERNS\n",
      "------------------\n",
      "• Blood Pressure Trend: Decreasing over time\n",
      "• Heart Rate Trend: Decreasing over time\n",
      "• Most critical age group: 46 years (average age for high BP)\n",
      "\n",
      "STATISTICAL SUMMARY\n",
      "------------------\n",
      "• Most recent readings (last 7 records):\n",
      "  - Average BP: 114.7\n",
      "  - Average HR: 85.6\n",
      "\n",
      "• Overall Statistics:\n",
      "  - BP Range: 85.0 - 160.0\n",
      "  - HR Range: 55.0 - 110.0\n",
      "  - Total Records Analyzed: 200\n",
      "\n",
      "------------------------------------------------------------\n",
      "\n",
      "Report generated: 2025-01-30 00:47:12\n",
      "\n"
     ]
    }
   ],
   "source": [
    "# Generate a Report\n",
    "report = f\"\"\"\n",
    "HEALTH DATA ANALYSIS REPORT: ABNORMAL READINGS AND TRENDS\n",
    "{'-'*60}\n",
    "\n",
    "ABNORMAL READINGS SUMMARY\n",
    "------------------------\n",
    "1. Blood Pressure Concerns:\n",
    "   • High BP (Greater Than 120): {len(df[df['blood_pressure'] > 120])} cases\n",
    "   • Low BP (Less Than 90): {len(df[df['blood_pressure'] < 90])} cases\n",
    "   • Percentage of abnormal readings: {((len(df[df['blood_pressure'] > 120]) + len(df[df['blood_pressure'] < 90])) / len(df) * 100):.1f}%\n",
    "\n",
    "2. Heart Rate Concerns:\n",
    "   • High HR (Greater Than 100): {len(df[df['heart_rate'] > 100])} cases\n",
    "   • Low HR (Less Than 60): {len(df[df['heart_rate'] < 60])} cases\n",
    "   • Percentage of abnormal readings: {((len(df[df['heart_rate'] > 100]) + len(df[df['heart_rate'] < 60])) / len(df) * 100):.1f}%\n",
    "\n",
    "TRENDS AND PATTERNS\n",
    "------------------\n",
    "• Blood Pressure Trend: {'Increasing' if df['blood_pressure'].iloc[-1] > df['blood_pressure'].iloc[0] else 'Decreasing'} over time\n",
    "• Heart Rate Trend: {'Increasing' if df['heart_rate'].iloc[-1] > df['heart_rate'].iloc[0] else 'Decreasing'} over time\n",
    "• Most critical age group: {df[df['blood_pressure'] > 120]['age'].mean():.0f} years (average age for high BP)\n",
    "\n",
    "STATISTICAL SUMMARY\n",
    "------------------\n",
    "• Most recent readings (last {min(7, len(df))} records):\n",
    "  - Average BP: {df['blood_pressure'].tail(min(7, len(df))).mean():.1f}\n",
    "  - Average HR: {df['heart_rate'].tail(min(7, len(df))).mean():.1f}\n",
    "\n",
    "• Overall Statistics:\n",
    "  - BP Range: {df['blood_pressure'].min():.1f} - {df['blood_pressure'].max():.1f}\n",
    "  - HR Range: {df['heart_rate'].min():.1f} - {df['heart_rate'].max():.1f}\n",
    "  - Total Records Analyzed: {len(df)}\n",
    "\n",
    "{'-'*60}\n",
    "\n",
    "Report generated: {pd.Timestamp.now().strftime('%Y-%m-%d %H:%M:%S')}\n",
    "\"\"\"\n",
    "\n",
    "print(report)"
   ]
  }
 ],
 "metadata": {
  "kernelspec": {
   "display_name": "venv",
   "language": "python",
   "name": "python3"
  },
  "language_info": {
   "codemirror_mode": {
    "name": "ipython",
    "version": 3
   },
   "file_extension": ".py",
   "mimetype": "text/x-python",
   "name": "python",
   "nbconvert_exporter": "python",
   "pygments_lexer": "ipython3",
   "version": "3.12.7"
  }
 },
 "nbformat": 4,
 "nbformat_minor": 2
}
