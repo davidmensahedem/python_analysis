{
 "cells": [
  {
   "cell_type": "code",
   "execution_count": null,
   "metadata": {},
   "outputs": [],
   "source": [
    "import pandas as pd\n",
    "import matplotlib.pyplot as plt\n"
   ]
  },
  {
   "cell_type": "code",
   "execution_count": null,
   "metadata": {},
   "outputs": [],
   "source": [
    "# List of file paths\n",
    "file_paths = ['/Users/hughes/Downloads/soil_moisture/plant_vase1.CSV',  '/Users/hughes/Downloads/soil_moisture/plant_vase1(2).CSV', '/Users/hughes/Downloads/soil_moisture/plant_vase2.CSV']\n",
    "dfs = [pd.read_csv(file) for file in file_paths]\n",
    "\n",
    "# Combine datasets into one\n",
    "combined_df = pd.concat(dfs, ignore_index=True)\n",
    "\n",
    "# Display combined dataset info\n",
    "print(\"Combined Dataset Info:\")\n",
    "print(combined_df.info())\n",
    "print(\"\\nFirst 5 rows:\")\n",
    "print(combined_df.head())\n"
   ]
  },
  {
   "cell_type": "code",
   "execution_count": null,
   "metadata": {},
   "outputs": [],
   "source": [
    "def recommend_irrigation(moisture_values, threshold=0.5):\n",
    "    \"\"\"\n",
    "    Recommend irrigation based on soil moisture values.\n",
    "    :param moisture_values: List of moisture readings (e.g., [moisture0, moisture1, moisture2, moisture3, moisture4])\n",
    "    :param threshold: Moisture threshold below which irrigation is recommended (default: 0.5)\n",
    "    :return: Recommendation and insights\n",
    "    \"\"\"\n",
    "    avg_moisture = sum(moisture_values) / len(moisture_values)\n",
    "    recommendation = \"Irrigation recommended\" if avg_moisture < threshold else \"No irrigation needed\"\n",
    "    insights = [\n",
    "        f\"Average soil moisture: {avg_moisture:.2f}\",\n",
    "        f\"Threshold: {threshold}\",\n",
    "        f\"Moisture readings: {moisture_values}\"\n",
    "    ]\n",
    "    return recommendation, insights"
   ]
  },
  {
   "cell_type": "code",
   "execution_count": null,
   "metadata": {},
   "outputs": [],
   "source": [
    "# Define moisture threshold (adjust based on crop requirements)\n",
    "moisture_threshold = 0.5\n",
    "\n",
    "# Add recommendation column to the dataset\n",
    "combined_df['recommendation'] = combined_df.apply(\n",
    "    lambda row: recommend_irrigation([row['moisture0'], row['moisture1'], row['moisture2'], row['moisture3'], row['moisture4']], threshold=moisture_threshold)[0],\n",
    "    axis=1\n",
    ")\n",
    "\n",
    "# Display sample recommendations\n",
    "print(\"\\nSample Recommendations:\")\n",
    "print(combined_df[['year', 'month', 'day', 'hour', 'minute', 'second', 'recommendation']].head(10))"
   ]
  },
  {
   "cell_type": "code",
   "execution_count": null,
   "metadata": {},
   "outputs": [],
   "source": [
    "# Analyze irrigation recommendations\n",
    "irrigation_counts = combined_df['recommendation'].value_counts()\n",
    "print(\"\\nIrrigation Recommendation Counts:\")\n",
    "print(irrigation_counts)\n",
    "\n",
    "# Calculate average moisture levels over time\n",
    "combined_df['timestamp'] = pd.to_datetime(combined_df[['year', 'month', 'day', 'hour', 'minute', 'second']])\n",
    "combined_df['avg_moisture'] = combined_df[['moisture0', 'moisture1', 'moisture2', 'moisture3', 'moisture4']].mean(axis=1)\n",
    "\n",
    "# Plot moisture trends\n",
    "\n",
    "plt.figure(figsize=(10, 6))\n",
    "plt.plot(combined_df['timestamp'], combined_df['avg_moisture'], label='Average Soil Moisture')\n",
    "plt.axhline(y=moisture_threshold, color='r', linestyle='--', label='Irrigation Threshold')\n",
    "plt.title('Soil Moisture Trends Over Time')\n",
    "plt.xlabel('Timestamp')\n",
    "plt.ylabel('Average Soil Moisture')\n",
    "plt.legend()\n",
    "plt.show()"
   ]
  },
  {
   "cell_type": "code",
   "execution_count": 16,
   "metadata": {},
   "outputs": [],
   "source": [
    "def interactive_irrigation_recommendation():\n",
    "    \"\"\"\n",
    "    Interactive function to take user inputs and provide irrigation recommendations.\n",
    "    \"\"\"\n",
    "    print(\"=== Irrigation Recommendation System ===\")\n",
    "    \n",
    "    # Take user inputs\n",
    "    try:\n",
    "        moisture0 = float(input(\"Enter moisture0 level (0.0 to 1.0): \"))\n",
    "        moisture1 = float(input(\"Enter moisture1 level (0.0 to 1.0): \"))\n",
    "        moisture2 = float(input(\"Enter moisture2 level (0.0 to 1.0): \"))\n",
    "        moisture3 = float(input(\"Enter moisture3 level (0.0 to 1.0): \"))\n",
    "        moisture4 = float(input(\"Enter moisture4 level (0.0 to 1.0): \"))\n",
    "    except ValueError:\n",
    "        print(\"Invalid input. Please enter numeric values.\")\n",
    "        return\n",
    "\n",
    "    # Define moisture threshold (adjust based on crop requirements)\n",
    "    moisture_threshold = 0.5\n",
    "\n",
    "    # Get recommendation\n",
    "    recommendation, insights = recommend_irrigation([moisture0, moisture1, moisture2, moisture3, moisture4], threshold=moisture_threshold)\n",
    "\n",
    "    # Display results\n",
    "    print(\"\\n=== Recommendation ===\")\n",
    "    print(recommendation)\n",
    "    print(\"\\n=== Insights ===\")\n",
    "    for insight in insights:\n",
    "        print(insight)\n",
    "\n",
    "    # Find similar historical records\n",
    "    similar_records = find_similar_records([moisture0, moisture1, moisture2, moisture3, moisture4])\n",
    "    if not similar_records.empty:\n",
    "        print(\"\\n=== Similar Historical Records ===\")\n",
    "        print(f\"Found {len(similar_records)} similar records.\")\n",
    "        print(similar_records[['year', 'month', 'day', 'hour', 'minute', 'second', 'irrgation']].head())\n",
    "    else:\n",
    "        print(\"\\nNo similar historical records found.\")"
   ]
  },
  {
   "cell_type": "code",
   "execution_count": 15,
   "metadata": {},
   "outputs": [],
   "source": [
    "def find_similar_records(moisture_values, threshold=0.1):\n",
    "    \"\"\"\n",
    "    Find historical records with similar moisture levels.\n",
    "    :param moisture_values: List of moisture readings (e.g., [moisture0, moisture1, moisture2, moisture3, moisture4])\n",
    "    :param threshold: Maximum difference to consider records similar (default: 0.1)\n",
    "    :return: DataFrame of similar records\n",
    "    \"\"\"\n",
    "    # Calculate absolute difference for each moisture column\n",
    "    for i, col in enumerate(['moisture0', 'moisture1', 'moisture2', 'moisture3', 'moisture4']):\n",
    "        combined_df[f'diff_{col}'] = abs(combined_df[col] - moisture_values[i])\n",
    "    \n",
    "    # Filter records where all differences are within the threshold\n",
    "    similar_records = combined_df[\n",
    "        (combined_df['diff_moisture0'] <= threshold) &\n",
    "        (combined_df['diff_moisture1'] <= threshold) &\n",
    "        (combined_df['diff_moisture2'] <= threshold) &\n",
    "        (combined_df['diff_moisture3'] <= threshold) &\n",
    "        (combined_df['diff_moisture4'] <= threshold)\n",
    "    ]\n",
    "    \n",
    "    # Drop difference columns\n",
    "    similar_records = similar_records.drop(columns=[f'diff_{col}' for col in ['moisture0', 'moisture1', 'moisture2', 'moisture3', 'moisture4']])\n",
    "    \n",
    "    return similar_records"
   ]
  },
  {
   "cell_type": "code",
   "execution_count": 18,
   "metadata": {},
   "outputs": [
    {
     "name": "stdout",
     "output_type": "stream",
     "text": [
      "=== Irrigation Recommendation System ===\n",
      "\n",
      "=== Recommendation ===\n",
      "Irrigation recommended\n",
      "\n",
      "=== Insights ===\n",
      "Average soil moisture: 0.38\n",
      "Threshold: 0.5\n",
      "Moisture readings: [0.5, 0.3, 0.4, 0.2, 0.5]\n",
      "\n",
      "No similar historical records found.\n"
     ]
    }
   ],
   "source": [
    "# Run the interactive function\n",
    "interactive_irrigation_recommendation()"
   ]
  },
  {
   "cell_type": "code",
   "execution_count": null,
   "metadata": {},
   "outputs": [],
   "source": []
  }
 ],
 "metadata": {
  "kernelspec": {
   "display_name": "venv",
   "language": "python",
   "name": "python3"
  },
  "language_info": {
   "codemirror_mode": {
    "name": "ipython",
    "version": 3
   },
   "file_extension": ".py",
   "mimetype": "text/x-python",
   "name": "python",
   "nbconvert_exporter": "python",
   "pygments_lexer": "ipython3",
   "version": "3.12.7"
  }
 },
 "nbformat": 4,
 "nbformat_minor": 2
}
